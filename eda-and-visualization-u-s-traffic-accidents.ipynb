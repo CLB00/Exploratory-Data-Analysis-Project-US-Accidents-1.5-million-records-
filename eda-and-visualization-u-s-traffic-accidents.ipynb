{
 "cells": [
  {
   "cell_type": "markdown",
   "id": "typical-screen",
   "metadata": {
    "papermill": {
     "duration": 0.046429,
     "end_time": "2021-09-22T18:26:29.077359",
     "exception": false,
     "start_time": "2021-09-22T18:26:29.030930",
     "status": "completed"
    },
    "tags": []
   },
   "source": [
    "# Exploratory Data Analysis Project: US Accidents (1.5 million records)\n",
    "##### A Countrywide Traffic Accident Dataset (2016 - 2020)\n",
    "\n",
    "<img style=\"float:center\" src=\"https://image.freepik.com/free-vector/traffic-accident-abstract-concept-vector-illustration-road-accident-report-traffic-laws-violation-single-car-crash-investigation-injury-statistics-multi-vehicle-collision-abstract-metaphor_335657-1800.jpg\" alt=\"image\" style=\"width:435px;height:366px;\">"
   ]
  },
  {
   "cell_type": "markdown",
   "id": "infinite-discovery",
   "metadata": {
    "papermill": {
     "duration": 0.041321,
     "end_time": "2021-09-22T18:26:29.153673",
     "exception": false,
     "start_time": "2021-09-22T18:26:29.112352",
     "status": "completed"
    },
    "tags": []
   },
   "source": [
    "## Project Goals\n",
    "* Analyze columns such as : City, State, Start time and more.\n",
    "* Answer questions like: \n",
    "\n",
    "  -Where do traffic accidents are most common?\n",
    "  \n",
    "  -At what time of the day traffic accidents are more likely?\n"
   ]
  },
  {
   "cell_type": "code",
   "execution_count": 1,
   "id": "differential-egypt",
   "metadata": {
    "execution": {
     "iopub.execute_input": "2021-09-22T18:26:29.233953Z",
     "iopub.status.busy": "2021-09-22T18:26:29.231883Z",
     "iopub.status.idle": "2021-09-22T18:26:30.181042Z",
     "shell.execute_reply": "2021-09-22T18:26:30.181589Z",
     "shell.execute_reply.started": "2021-09-22T18:24:31.228022Z"
    },
    "papermill": {
     "duration": 0.990893,
     "end_time": "2021-09-22T18:26:30.181898",
     "exception": false,
     "start_time": "2021-09-22T18:26:29.191005",
     "status": "completed"
    },
    "tags": []
   },
   "outputs": [
    {
     "name": "stdout",
     "output_type": "stream",
     "text": [
      "/kaggle/input/us-accidents/US_Accidents_Dec20_updated.csv\n"
     ]
    }
   ],
   "source": [
    "import numpy as np \n",
    "import pandas as pd\n",
    "import matplotlib.pyplot as plt\n",
    "import seaborn as sns\n",
    "\n",
    "import warnings\n",
    "warnings.filterwarnings(\"ignore\")\n",
    "\n",
    "import os\n",
    "for dirname, _, filenames in os.walk('/kaggle/input'):\n",
    "    for filename in filenames:\n",
    "        print(os.path.join(dirname, filename))\n"
   ]
  },
  {
   "cell_type": "code",
   "execution_count": 2,
   "id": "moral-yugoslavia",
   "metadata": {
    "execution": {
     "iopub.execute_input": "2021-09-22T18:26:30.255617Z",
     "iopub.status.busy": "2021-09-22T18:26:30.254867Z",
     "iopub.status.idle": "2021-09-22T18:26:49.960293Z",
     "shell.execute_reply": "2021-09-22T18:26:49.959265Z",
     "shell.execute_reply.started": "2021-09-22T18:24:31.921737Z"
    },
    "papermill": {
     "duration": 19.744287,
     "end_time": "2021-09-22T18:26:49.960465",
     "exception": false,
     "start_time": "2021-09-22T18:26:30.216178",
     "status": "completed"
    },
    "tags": []
   },
   "outputs": [],
   "source": [
    "file_path = \"../input/us-accidents/US_Accidents_Dec20_updated.csv\"\n",
    "\n",
    "df = pd.read_csv(file_path)"
   ]
  },
  {
   "cell_type": "code",
   "execution_count": 3,
   "id": "employed-founder",
   "metadata": {
    "execution": {
     "iopub.execute_input": "2021-09-22T18:26:50.035756Z",
     "iopub.status.busy": "2021-09-22T18:26:50.034690Z",
     "iopub.status.idle": "2021-09-22T18:26:50.040489Z",
     "shell.execute_reply": "2021-09-22T18:26:50.039468Z",
     "shell.execute_reply.started": "2021-09-22T18:24:51.582656Z"
    },
    "papermill": {
     "duration": 0.045534,
     "end_time": "2021-09-22T18:26:50.040734",
     "exception": false,
     "start_time": "2021-09-22T18:26:49.995200",
     "status": "completed"
    },
    "tags": []
   },
   "outputs": [
    {
     "name": "stdout",
     "output_type": "stream",
     "text": [
      "Number of columns: 47\n",
      "Number of rows: 1516064\n"
     ]
    }
   ],
   "source": [
    "print(f\"Number of columns: {df.shape[1]}\")\n",
    "print(f\"Number of rows: {df.shape[0]}\")"
   ]
  },
  {
   "cell_type": "code",
   "execution_count": 4,
   "id": "indie-petite",
   "metadata": {
    "execution": {
     "iopub.execute_input": "2021-09-22T18:26:50.124809Z",
     "iopub.status.busy": "2021-09-22T18:26:50.124088Z",
     "iopub.status.idle": "2021-09-22T18:26:52.696096Z",
     "shell.execute_reply": "2021-09-22T18:26:52.696928Z",
     "shell.execute_reply.started": "2021-09-22T18:24:51.592167Z"
    },
    "papermill": {
     "duration": 2.620613,
     "end_time": "2021-09-22T18:26:52.697243",
     "exception": false,
     "start_time": "2021-09-22T18:26:50.076630",
     "status": "completed"
    },
    "tags": []
   },
   "outputs": [
    {
     "name": "stdout",
     "output_type": "stream",
     "text": [
      "<class 'pandas.core.frame.DataFrame'>\n",
      "RangeIndex: 1516064 entries, 0 to 1516063\n",
      "Data columns (total 47 columns):\n",
      " #   Column                 Non-Null Count    Dtype  \n",
      "---  ------                 --------------    -----  \n",
      " 0   ID                     1516064 non-null  object \n",
      " 1   Severity               1516064 non-null  int64  \n",
      " 2   Start_Time             1516064 non-null  object \n",
      " 3   End_Time               1516064 non-null  object \n",
      " 4   Start_Lat              1516064 non-null  float64\n",
      " 5   Start_Lng              1516064 non-null  float64\n",
      " 6   End_Lat                1516064 non-null  float64\n",
      " 7   End_Lng                1516064 non-null  float64\n",
      " 8   Distance(mi)           1516064 non-null  float64\n",
      " 9   Description            1516064 non-null  object \n",
      " 10  Number                 469969 non-null   float64\n",
      " 11  Street                 1516064 non-null  object \n",
      " 12  Side                   1516064 non-null  object \n",
      " 13  City                   1515981 non-null  object \n",
      " 14  County                 1516064 non-null  object \n",
      " 15  State                  1516064 non-null  object \n",
      " 16  Zipcode                1515129 non-null  object \n",
      " 17  Country                1516064 non-null  object \n",
      " 18  Timezone               1513762 non-null  object \n",
      " 19  Airport_Code           1511816 non-null  object \n",
      " 20  Weather_Timestamp      1485800 non-null  object \n",
      " 21  Temperature(F)         1473031 non-null  float64\n",
      " 22  Wind_Chill(F)          1066748 non-null  float64\n",
      " 23  Humidity(%)            1470555 non-null  float64\n",
      " 24  Pressure(in)           1479790 non-null  float64\n",
      " 25  Visibility(mi)         1471853 non-null  float64\n",
      " 26  Wind_Direction         1474206 non-null  object \n",
      " 27  Wind_Speed(mph)        1387202 non-null  float64\n",
      " 28  Precipitation(in)      1005515 non-null  float64\n",
      " 29  Weather_Condition      1472057 non-null  object \n",
      " 30  Amenity                1516064 non-null  bool   \n",
      " 31  Bump                   1516064 non-null  bool   \n",
      " 32  Crossing               1516064 non-null  bool   \n",
      " 33  Give_Way               1516064 non-null  bool   \n",
      " 34  Junction               1516064 non-null  bool   \n",
      " 35  No_Exit                1516064 non-null  bool   \n",
      " 36  Railway                1516064 non-null  bool   \n",
      " 37  Roundabout             1516064 non-null  bool   \n",
      " 38  Station                1516064 non-null  bool   \n",
      " 39  Stop                   1516064 non-null  bool   \n",
      " 40  Traffic_Calming        1516064 non-null  bool   \n",
      " 41  Traffic_Signal         1516064 non-null  bool   \n",
      " 42  Turning_Loop           1516064 non-null  bool   \n",
      " 43  Sunrise_Sunset         1515981 non-null  object \n",
      " 44  Civil_Twilight         1515981 non-null  object \n",
      " 45  Nautical_Twilight      1515981 non-null  object \n",
      " 46  Astronomical_Twilight  1515981 non-null  object \n",
      "dtypes: bool(13), float64(13), int64(1), object(20)\n",
      "memory usage: 412.1+ MB\n"
     ]
    }
   ],
   "source": [
    "df.info()"
   ]
  },
  {
   "cell_type": "code",
   "execution_count": 5,
   "id": "consolidated-legend",
   "metadata": {
    "execution": {
     "iopub.execute_input": "2021-09-22T18:26:52.841771Z",
     "iopub.status.busy": "2021-09-22T18:26:52.773006Z",
     "iopub.status.idle": "2021-09-22T18:26:53.868769Z",
     "shell.execute_reply": "2021-09-22T18:26:53.868196Z",
     "shell.execute_reply.started": "2021-09-22T18:24:54.680944Z"
    },
    "papermill": {
     "duration": 1.135757,
     "end_time": "2021-09-22T18:26:53.868934",
     "exception": false,
     "start_time": "2021-09-22T18:26:52.733177",
     "status": "completed"
    },
    "tags": []
   },
   "outputs": [
    {
     "data": {
      "text/html": [
       "<div>\n",
       "<style scoped>\n",
       "    .dataframe tbody tr th:only-of-type {\n",
       "        vertical-align: middle;\n",
       "    }\n",
       "\n",
       "    .dataframe tbody tr th {\n",
       "        vertical-align: top;\n",
       "    }\n",
       "\n",
       "    .dataframe thead th {\n",
       "        text-align: right;\n",
       "    }\n",
       "</style>\n",
       "<table border=\"1\" class=\"dataframe\">\n",
       "  <thead>\n",
       "    <tr style=\"text-align: right;\">\n",
       "      <th></th>\n",
       "      <th>Severity</th>\n",
       "      <th>Start_Lat</th>\n",
       "      <th>Start_Lng</th>\n",
       "      <th>End_Lat</th>\n",
       "      <th>End_Lng</th>\n",
       "      <th>Distance(mi)</th>\n",
       "      <th>Number</th>\n",
       "      <th>Temperature(F)</th>\n",
       "      <th>Wind_Chill(F)</th>\n",
       "      <th>Humidity(%)</th>\n",
       "      <th>Pressure(in)</th>\n",
       "      <th>Visibility(mi)</th>\n",
       "      <th>Wind_Speed(mph)</th>\n",
       "      <th>Precipitation(in)</th>\n",
       "    </tr>\n",
       "  </thead>\n",
       "  <tbody>\n",
       "    <tr>\n",
       "      <th>count</th>\n",
       "      <td>1.516064e+06</td>\n",
       "      <td>1.516064e+06</td>\n",
       "      <td>1.516064e+06</td>\n",
       "      <td>1.516064e+06</td>\n",
       "      <td>1.516064e+06</td>\n",
       "      <td>1.516064e+06</td>\n",
       "      <td>4.699690e+05</td>\n",
       "      <td>1.473031e+06</td>\n",
       "      <td>1.066748e+06</td>\n",
       "      <td>1.470555e+06</td>\n",
       "      <td>1.479790e+06</td>\n",
       "      <td>1.471853e+06</td>\n",
       "      <td>1.387202e+06</td>\n",
       "      <td>1.005515e+06</td>\n",
       "    </tr>\n",
       "    <tr>\n",
       "      <th>mean</th>\n",
       "      <td>2.238630e+00</td>\n",
       "      <td>3.690056e+01</td>\n",
       "      <td>-9.859919e+01</td>\n",
       "      <td>3.690061e+01</td>\n",
       "      <td>-9.859901e+01</td>\n",
       "      <td>5.872617e-01</td>\n",
       "      <td>8.907533e+03</td>\n",
       "      <td>5.958460e+01</td>\n",
       "      <td>5.510976e+01</td>\n",
       "      <td>6.465960e+01</td>\n",
       "      <td>2.955495e+01</td>\n",
       "      <td>9.131755e+00</td>\n",
       "      <td>7.630812e+00</td>\n",
       "      <td>8.477855e-03</td>\n",
       "    </tr>\n",
       "    <tr>\n",
       "      <th>std</th>\n",
       "      <td>6.081481e-01</td>\n",
       "      <td>5.165653e+00</td>\n",
       "      <td>1.849602e+01</td>\n",
       "      <td>5.165629e+00</td>\n",
       "      <td>1.849590e+01</td>\n",
       "      <td>1.632659e+00</td>\n",
       "      <td>2.242190e+04</td>\n",
       "      <td>1.827316e+01</td>\n",
       "      <td>2.112735e+01</td>\n",
       "      <td>2.325986e+01</td>\n",
       "      <td>1.016756e+00</td>\n",
       "      <td>2.889112e+00</td>\n",
       "      <td>5.637364e+00</td>\n",
       "      <td>1.293168e-01</td>\n",
       "    </tr>\n",
       "    <tr>\n",
       "      <th>min</th>\n",
       "      <td>1.000000e+00</td>\n",
       "      <td>2.457022e+01</td>\n",
       "      <td>-1.244976e+02</td>\n",
       "      <td>2.457011e+01</td>\n",
       "      <td>-1.244978e+02</td>\n",
       "      <td>0.000000e+00</td>\n",
       "      <td>0.000000e+00</td>\n",
       "      <td>-8.900000e+01</td>\n",
       "      <td>-8.900000e+01</td>\n",
       "      <td>1.000000e+00</td>\n",
       "      <td>0.000000e+00</td>\n",
       "      <td>0.000000e+00</td>\n",
       "      <td>0.000000e+00</td>\n",
       "      <td>0.000000e+00</td>\n",
       "    </tr>\n",
       "    <tr>\n",
       "      <th>25%</th>\n",
       "      <td>2.000000e+00</td>\n",
       "      <td>3.385422e+01</td>\n",
       "      <td>-1.182076e+02</td>\n",
       "      <td>3.385420e+01</td>\n",
       "      <td>-1.182077e+02</td>\n",
       "      <td>0.000000e+00</td>\n",
       "      <td>1.212000e+03</td>\n",
       "      <td>4.700000e+01</td>\n",
       "      <td>4.080000e+01</td>\n",
       "      <td>4.800000e+01</td>\n",
       "      <td>2.944000e+01</td>\n",
       "      <td>1.000000e+01</td>\n",
       "      <td>4.600000e+00</td>\n",
       "      <td>0.000000e+00</td>\n",
       "    </tr>\n",
       "    <tr>\n",
       "      <th>50%</th>\n",
       "      <td>2.000000e+00</td>\n",
       "      <td>3.735113e+01</td>\n",
       "      <td>-9.438100e+01</td>\n",
       "      <td>3.735134e+01</td>\n",
       "      <td>-9.437987e+01</td>\n",
       "      <td>1.780000e-01</td>\n",
       "      <td>4.000000e+03</td>\n",
       "      <td>6.100000e+01</td>\n",
       "      <td>5.700000e+01</td>\n",
       "      <td>6.800000e+01</td>\n",
       "      <td>2.988000e+01</td>\n",
       "      <td>1.000000e+01</td>\n",
       "      <td>7.000000e+00</td>\n",
       "      <td>0.000000e+00</td>\n",
       "    </tr>\n",
       "    <tr>\n",
       "      <th>75%</th>\n",
       "      <td>2.000000e+00</td>\n",
       "      <td>4.072593e+01</td>\n",
       "      <td>-8.087469e+01</td>\n",
       "      <td>4.072593e+01</td>\n",
       "      <td>-8.087449e+01</td>\n",
       "      <td>5.940000e-01</td>\n",
       "      <td>1.010000e+04</td>\n",
       "      <td>7.300000e+01</td>\n",
       "      <td>7.100000e+01</td>\n",
       "      <td>8.400000e+01</td>\n",
       "      <td>3.004000e+01</td>\n",
       "      <td>1.000000e+01</td>\n",
       "      <td>1.040000e+01</td>\n",
       "      <td>0.000000e+00</td>\n",
       "    </tr>\n",
       "    <tr>\n",
       "      <th>max</th>\n",
       "      <td>4.000000e+00</td>\n",
       "      <td>4.900058e+01</td>\n",
       "      <td>-6.711317e+01</td>\n",
       "      <td>4.907500e+01</td>\n",
       "      <td>-6.710924e+01</td>\n",
       "      <td>1.551860e+02</td>\n",
       "      <td>9.999997e+06</td>\n",
       "      <td>1.706000e+02</td>\n",
       "      <td>1.130000e+02</td>\n",
       "      <td>1.000000e+02</td>\n",
       "      <td>5.804000e+01</td>\n",
       "      <td>1.400000e+02</td>\n",
       "      <td>9.840000e+02</td>\n",
       "      <td>2.400000e+01</td>\n",
       "    </tr>\n",
       "  </tbody>\n",
       "</table>\n",
       "</div>"
      ],
      "text/plain": [
       "           Severity     Start_Lat     Start_Lng       End_Lat       End_Lng  \\\n",
       "count  1.516064e+06  1.516064e+06  1.516064e+06  1.516064e+06  1.516064e+06   \n",
       "mean   2.238630e+00  3.690056e+01 -9.859919e+01  3.690061e+01 -9.859901e+01   \n",
       "std    6.081481e-01  5.165653e+00  1.849602e+01  5.165629e+00  1.849590e+01   \n",
       "min    1.000000e+00  2.457022e+01 -1.244976e+02  2.457011e+01 -1.244978e+02   \n",
       "25%    2.000000e+00  3.385422e+01 -1.182076e+02  3.385420e+01 -1.182077e+02   \n",
       "50%    2.000000e+00  3.735113e+01 -9.438100e+01  3.735134e+01 -9.437987e+01   \n",
       "75%    2.000000e+00  4.072593e+01 -8.087469e+01  4.072593e+01 -8.087449e+01   \n",
       "max    4.000000e+00  4.900058e+01 -6.711317e+01  4.907500e+01 -6.710924e+01   \n",
       "\n",
       "       Distance(mi)        Number  Temperature(F)  Wind_Chill(F)  \\\n",
       "count  1.516064e+06  4.699690e+05    1.473031e+06   1.066748e+06   \n",
       "mean   5.872617e-01  8.907533e+03    5.958460e+01   5.510976e+01   \n",
       "std    1.632659e+00  2.242190e+04    1.827316e+01   2.112735e+01   \n",
       "min    0.000000e+00  0.000000e+00   -8.900000e+01  -8.900000e+01   \n",
       "25%    0.000000e+00  1.212000e+03    4.700000e+01   4.080000e+01   \n",
       "50%    1.780000e-01  4.000000e+03    6.100000e+01   5.700000e+01   \n",
       "75%    5.940000e-01  1.010000e+04    7.300000e+01   7.100000e+01   \n",
       "max    1.551860e+02  9.999997e+06    1.706000e+02   1.130000e+02   \n",
       "\n",
       "        Humidity(%)  Pressure(in)  Visibility(mi)  Wind_Speed(mph)  \\\n",
       "count  1.470555e+06  1.479790e+06    1.471853e+06     1.387202e+06   \n",
       "mean   6.465960e+01  2.955495e+01    9.131755e+00     7.630812e+00   \n",
       "std    2.325986e+01  1.016756e+00    2.889112e+00     5.637364e+00   \n",
       "min    1.000000e+00  0.000000e+00    0.000000e+00     0.000000e+00   \n",
       "25%    4.800000e+01  2.944000e+01    1.000000e+01     4.600000e+00   \n",
       "50%    6.800000e+01  2.988000e+01    1.000000e+01     7.000000e+00   \n",
       "75%    8.400000e+01  3.004000e+01    1.000000e+01     1.040000e+01   \n",
       "max    1.000000e+02  5.804000e+01    1.400000e+02     9.840000e+02   \n",
       "\n",
       "       Precipitation(in)  \n",
       "count       1.005515e+06  \n",
       "mean        8.477855e-03  \n",
       "std         1.293168e-01  \n",
       "min         0.000000e+00  \n",
       "25%         0.000000e+00  \n",
       "50%         0.000000e+00  \n",
       "75%         0.000000e+00  \n",
       "max         2.400000e+01  "
      ]
     },
     "execution_count": 5,
     "metadata": {},
     "output_type": "execute_result"
    }
   ],
   "source": [
    "df.describe()"
   ]
  },
  {
   "cell_type": "code",
   "execution_count": 6,
   "id": "incoming-variation",
   "metadata": {
    "execution": {
     "iopub.execute_input": "2021-09-22T18:26:53.945124Z",
     "iopub.status.busy": "2021-09-22T18:26:53.944393Z",
     "iopub.status.idle": "2021-09-22T18:26:56.454580Z",
     "shell.execute_reply": "2021-09-22T18:26:56.453844Z",
     "shell.execute_reply.started": "2021-09-22T18:24:55.942383Z"
    },
    "papermill": {
     "duration": 2.550272,
     "end_time": "2021-09-22T18:26:56.454734",
     "exception": false,
     "start_time": "2021-09-22T18:26:53.904462",
     "status": "completed"
    },
    "tags": []
   },
   "outputs": [
    {
     "data": {
      "text/plain": [
       "ID                             0\n",
       "Severity                       0\n",
       "Start_Time                     0\n",
       "End_Time                       0\n",
       "Start_Lat                      0\n",
       "Start_Lng                      0\n",
       "End_Lat                        0\n",
       "End_Lng                        0\n",
       "Distance(mi)                   0\n",
       "Description                    0\n",
       "Number                   1046095\n",
       "Street                         0\n",
       "Side                           0\n",
       "City                          83\n",
       "County                         0\n",
       "State                          0\n",
       "Zipcode                      935\n",
       "Country                        0\n",
       "Timezone                    2302\n",
       "Airport_Code                4248\n",
       "Weather_Timestamp          30264\n",
       "Temperature(F)             43033\n",
       "Wind_Chill(F)             449316\n",
       "Humidity(%)                45509\n",
       "Pressure(in)               36274\n",
       "Visibility(mi)             44211\n",
       "Wind_Direction             41858\n",
       "Wind_Speed(mph)           128862\n",
       "Precipitation(in)         510549\n",
       "Weather_Condition          44007\n",
       "Amenity                        0\n",
       "Bump                           0\n",
       "Crossing                       0\n",
       "Give_Way                       0\n",
       "Junction                       0\n",
       "No_Exit                        0\n",
       "Railway                        0\n",
       "Roundabout                     0\n",
       "Station                        0\n",
       "Stop                           0\n",
       "Traffic_Calming                0\n",
       "Traffic_Signal                 0\n",
       "Turning_Loop                   0\n",
       "Sunrise_Sunset                83\n",
       "Civil_Twilight                83\n",
       "Nautical_Twilight             83\n",
       "Astronomical_Twilight         83\n",
       "dtype: int64"
      ]
     },
     "execution_count": 6,
     "metadata": {},
     "output_type": "execute_result"
    }
   ],
   "source": [
    "df.isnull().sum()"
   ]
  },
  {
   "cell_type": "markdown",
   "id": "refined-adobe",
   "metadata": {
    "papermill": {
     "duration": 0.035527,
     "end_time": "2021-09-22T18:26:56.526690",
     "exception": false,
     "start_time": "2021-09-22T18:26:56.491163",
     "status": "completed"
    },
    "tags": []
   },
   "source": [
    "Many missing values like WindChill and precipitation which have 400k+ missing values"
   ]
  },
  {
   "cell_type": "code",
   "execution_count": 7,
   "id": "advisory-growth",
   "metadata": {
    "execution": {
     "iopub.execute_input": "2021-09-22T18:26:56.606324Z",
     "iopub.status.busy": "2021-09-22T18:26:56.604686Z",
     "iopub.status.idle": "2021-09-22T18:26:56.922494Z",
     "shell.execute_reply": "2021-09-22T18:26:56.921860Z",
     "shell.execute_reply.started": "2021-09-22T18:24:58.992053Z"
    },
    "papermill": {
     "duration": 0.35979,
     "end_time": "2021-09-22T18:26:56.922665",
     "exception": false,
     "start_time": "2021-09-22T18:26:56.562875",
     "status": "completed"
    },
    "tags": []
   },
   "outputs": [],
   "source": [
    "df = df[[\"Start_Time\", \"City\", \"State\", \"Temperature(F)\", \"Start_Lng\", \"Start_Lat\"]]"
   ]
  },
  {
   "cell_type": "code",
   "execution_count": 8,
   "id": "stylish-dividend",
   "metadata": {
    "execution": {
     "iopub.execute_input": "2021-09-22T18:26:57.010210Z",
     "iopub.status.busy": "2021-09-22T18:26:57.009363Z",
     "iopub.status.idle": "2021-09-22T18:26:57.013349Z",
     "shell.execute_reply": "2021-09-22T18:26:57.012771Z",
     "shell.execute_reply.started": "2021-09-22T18:25:26.708546Z"
    },
    "papermill": {
     "duration": 0.054636,
     "end_time": "2021-09-22T18:26:57.013500",
     "exception": false,
     "start_time": "2021-09-22T18:26:56.958864",
     "status": "completed"
    },
    "tags": []
   },
   "outputs": [
    {
     "data": {
      "text/html": [
       "<div>\n",
       "<style scoped>\n",
       "    .dataframe tbody tr th:only-of-type {\n",
       "        vertical-align: middle;\n",
       "    }\n",
       "\n",
       "    .dataframe tbody tr th {\n",
       "        vertical-align: top;\n",
       "    }\n",
       "\n",
       "    .dataframe thead th {\n",
       "        text-align: right;\n",
       "    }\n",
       "</style>\n",
       "<table border=\"1\" class=\"dataframe\">\n",
       "  <thead>\n",
       "    <tr style=\"text-align: right;\">\n",
       "      <th></th>\n",
       "      <th>Start_Time</th>\n",
       "      <th>City</th>\n",
       "      <th>State</th>\n",
       "      <th>Temperature(F)</th>\n",
       "      <th>Start_Lng</th>\n",
       "      <th>Start_Lat</th>\n",
       "    </tr>\n",
       "  </thead>\n",
       "  <tbody>\n",
       "    <tr>\n",
       "      <th>0</th>\n",
       "      <td>2016-02-08 00:37:08</td>\n",
       "      <td>Dublin</td>\n",
       "      <td>OH</td>\n",
       "      <td>42.1</td>\n",
       "      <td>-83.09286</td>\n",
       "      <td>40.10891</td>\n",
       "    </tr>\n",
       "    <tr>\n",
       "      <th>1</th>\n",
       "      <td>2016-02-08 05:56:20</td>\n",
       "      <td>Dayton</td>\n",
       "      <td>OH</td>\n",
       "      <td>36.9</td>\n",
       "      <td>-84.06280</td>\n",
       "      <td>39.86542</td>\n",
       "    </tr>\n",
       "    <tr>\n",
       "      <th>2</th>\n",
       "      <td>2016-02-08 06:15:39</td>\n",
       "      <td>Cincinnati</td>\n",
       "      <td>OH</td>\n",
       "      <td>36.0</td>\n",
       "      <td>-84.52468</td>\n",
       "      <td>39.10266</td>\n",
       "    </tr>\n",
       "    <tr>\n",
       "      <th>3</th>\n",
       "      <td>2016-02-08 06:15:39</td>\n",
       "      <td>Cincinnati</td>\n",
       "      <td>OH</td>\n",
       "      <td>36.0</td>\n",
       "      <td>-84.52341</td>\n",
       "      <td>39.10148</td>\n",
       "    </tr>\n",
       "    <tr>\n",
       "      <th>4</th>\n",
       "      <td>2016-02-08 06:51:45</td>\n",
       "      <td>Akron</td>\n",
       "      <td>OH</td>\n",
       "      <td>39.0</td>\n",
       "      <td>-81.53784</td>\n",
       "      <td>41.06213</td>\n",
       "    </tr>\n",
       "  </tbody>\n",
       "</table>\n",
       "</div>"
      ],
      "text/plain": [
       "            Start_Time        City State  Temperature(F)  Start_Lng  Start_Lat\n",
       "0  2016-02-08 00:37:08      Dublin    OH            42.1  -83.09286   40.10891\n",
       "1  2016-02-08 05:56:20      Dayton    OH            36.9  -84.06280   39.86542\n",
       "2  2016-02-08 06:15:39  Cincinnati    OH            36.0  -84.52468   39.10266\n",
       "3  2016-02-08 06:15:39  Cincinnati    OH            36.0  -84.52341   39.10148\n",
       "4  2016-02-08 06:51:45       Akron    OH            39.0  -81.53784   41.06213"
      ]
     },
     "execution_count": 8,
     "metadata": {},
     "output_type": "execute_result"
    }
   ],
   "source": [
    "df.head()"
   ]
  },
  {
   "cell_type": "markdown",
   "id": "important-appeal",
   "metadata": {
    "papermill": {
     "duration": 0.037407,
     "end_time": "2021-09-22T18:26:57.087497",
     "exception": false,
     "start_time": "2021-09-22T18:26:57.050090",
     "status": "completed"
    },
    "tags": []
   },
   "source": [
    "**Let's start with geographical data**"
   ]
  },
  {
   "cell_type": "code",
   "execution_count": 9,
   "id": "willing-anderson",
   "metadata": {
    "execution": {
     "iopub.execute_input": "2021-09-22T18:26:57.167816Z",
     "iopub.status.busy": "2021-09-22T18:26:57.167095Z",
     "iopub.status.idle": "2021-09-22T18:27:00.371426Z",
     "shell.execute_reply": "2021-09-22T18:27:00.371987Z",
     "shell.execute_reply.started": "2021-09-22T18:24:59.339062Z"
    },
    "papermill": {
     "duration": 3.247229,
     "end_time": "2021-09-22T18:27:00.372187",
     "exception": false,
     "start_time": "2021-09-22T18:26:57.124958",
     "status": "completed"
    },
    "tags": []
   },
   "outputs": [
    {
     "data": {
      "text/plain": [
       "<AxesSubplot:xlabel='Start_Lng', ylabel='Start_Lat'>"
      ]
     },
     "execution_count": 9,
     "metadata": {},
     "output_type": "execute_result"
    },
    {
     "data": {
      "image/png": "[encoded data removed]",
      "text/plain": [
       "<Figure size 432x288 with 1 Axes>"
      ]
     },
     "metadata": {},
     "output_type": "display_data"
    }
   ],
   "source": [
    "sns.set_style(\"darkgrid\")\n",
    "sns.scatterplot(x=\"Start_Lng\", y=\"Start_Lat\", data=df, alpha=0.4)"
   ]
  },
  {
   "cell_type": "code",
   "execution_count": 10,
   "id": "closed-covering",
   "metadata": {
    "execution": {
     "iopub.execute_input": "2021-09-22T18:27:00.578871Z",
     "iopub.status.busy": "2021-09-22T18:27:00.578122Z",
     "iopub.status.idle": "2021-09-22T18:27:00.736868Z",
     "shell.execute_reply": "2021-09-22T18:27:00.736136Z",
     "shell.execute_reply.started": "2021-09-22T18:25:02.577810Z"
    },
    "papermill": {
     "duration": 0.323586,
     "end_time": "2021-09-22T18:27:00.737025",
     "exception": false,
     "start_time": "2021-09-22T18:27:00.413439",
     "status": "completed"
    },
    "tags": []
   },
   "outputs": [
    {
     "data": {
      "text/plain": [
       "10657"
      ]
     },
     "execution_count": 10,
     "metadata": {},
     "output_type": "execute_result"
    }
   ],
   "source": [
    "df[\"City\"].nunique()"
   ]
  },
  {
   "cell_type": "code",
   "execution_count": 11,
   "id": "committed-fitting",
   "metadata": {
    "execution": {
     "iopub.execute_input": "2021-09-22T18:27:00.943421Z",
     "iopub.status.busy": "2021-09-22T18:27:00.942684Z",
     "iopub.status.idle": "2021-09-22T18:27:01.053684Z",
     "shell.execute_reply": "2021-09-22T18:27:01.053044Z",
     "shell.execute_reply.started": "2021-09-22T18:25:02.900809Z"
    },
    "papermill": {
     "duration": 0.275853,
     "end_time": "2021-09-22T18:27:01.053857",
     "exception": false,
     "start_time": "2021-09-22T18:27:00.778004",
     "status": "completed"
    },
    "tags": []
   },
   "outputs": [
    {
     "data": {
      "text/plain": [
       "49"
      ]
     },
     "execution_count": 11,
     "metadata": {},
     "output_type": "execute_result"
    }
   ],
   "source": [
    "df[\"State\"].nunique()"
   ]
  },
  {
   "cell_type": "code",
   "execution_count": 12,
   "id": "rubber-embassy",
   "metadata": {
    "execution": {
     "iopub.execute_input": "2021-09-22T18:27:01.488172Z",
     "iopub.status.busy": "2021-09-22T18:27:01.487467Z",
     "iopub.status.idle": "2021-09-22T18:27:01.499586Z",
     "shell.execute_reply": "2021-09-22T18:27:01.498973Z",
     "shell.execute_reply.started": "2021-09-22T18:25:03.172043Z"
    },
    "papermill": {
     "duration": 0.403798,
     "end_time": "2021-09-22T18:27:01.499750",
     "exception": false,
     "start_time": "2021-09-22T18:27:01.095952",
     "status": "completed"
    },
    "tags": []
   },
   "outputs": [
    {
     "data": {
      "text/plain": [
       "Los Angeles    39984\n",
       "Miami          36233\n",
       "Charlotte      22203\n",
       "Houston        20843\n",
       "Dallas         19497\n",
       "               ...  \n",
       "Seney              1\n",
       "Belle Mead         1\n",
       "Eagle Nest         1\n",
       "Pelican            1\n",
       "Selby              1\n",
       "Name: City, Length: 10657, dtype: int64"
      ]
     },
     "execution_count": 12,
     "metadata": {},
     "output_type": "execute_result"
    }
   ],
   "source": [
    "count_city = df[\"City\"].value_counts()\n",
    "count_city"
   ]
  },
  {
   "cell_type": "code",
   "execution_count": 13,
   "id": "advance-intersection",
   "metadata": {
    "execution": {
     "iopub.execute_input": "2021-09-22T18:27:01.591724Z",
     "iopub.status.busy": "2021-09-22T18:27:01.590707Z",
     "iopub.status.idle": "2021-09-22T18:27:01.595462Z",
     "shell.execute_reply": "2021-09-22T18:27:01.594790Z",
     "shell.execute_reply.started": "2021-09-22T18:25:03.603773Z"
    },
    "papermill": {
     "duration": 0.053144,
     "end_time": "2021-09-22T18:27:01.595644",
     "exception": false,
     "start_time": "2021-09-22T18:27:01.542500",
     "status": "completed"
    },
    "tags": []
   },
   "outputs": [
    {
     "data": {
      "text/plain": [
       "Los Angeles     39984\n",
       "Miami           36233\n",
       "Charlotte       22203\n",
       "Houston         20843\n",
       "Dallas          19497\n",
       "Sacramento      18431\n",
       "Orlando         16169\n",
       "Portland        14805\n",
       "San Diego       14090\n",
       "Minneapolis     12653\n",
       "Atlanta         11854\n",
       "Chicago         11507\n",
       "Saint Paul      10084\n",
       "Phoenix          9934\n",
       "Raleigh          9516\n",
       "San Jose         9362\n",
       "Richmond         8472\n",
       "Nashville        8381\n",
       "Riverside        8201\n",
       "Jacksonville     7815\n",
       "Name: City, dtype: int64"
      ]
     },
     "execution_count": 13,
     "metadata": {},
     "output_type": "execute_result"
    }
   ],
   "source": [
    "count_city[:20]"
   ]
  },
  {
   "cell_type": "markdown",
   "id": "fluid-breach",
   "metadata": {
    "papermill": {
     "duration": 0.041638,
     "end_time": "2021-09-22T18:27:01.679373",
     "exception": false,
     "start_time": "2021-09-22T18:27:01.637735",
     "status": "completed"
    },
    "tags": []
   },
   "source": [
    "- There are cities with only 1 accident record\n",
    "- New York isn't on the top cities being the most populated in the U.S"
   ]
  },
  {
   "cell_type": "code",
   "execution_count": 14,
   "id": "civilian-logging",
   "metadata": {
    "execution": {
     "iopub.execute_input": "2021-09-22T18:27:01.943669Z",
     "iopub.status.busy": "2021-09-22T18:27:01.942956Z",
     "iopub.status.idle": "2021-09-22T18:27:01.960468Z",
     "shell.execute_reply": "2021-09-22T18:27:01.960995Z",
     "shell.execute_reply.started": "2021-09-22T18:25:03.615635Z"
    },
    "papermill": {
     "duration": 0.239516,
     "end_time": "2021-09-22T18:27:01.961198",
     "exception": false,
     "start_time": "2021-09-22T18:27:01.721682",
     "status": "completed"
    },
    "tags": []
   },
   "outputs": [
    {
     "data": {
      "text/html": [
       "<div>\n",
       "<style scoped>\n",
       "    .dataframe tbody tr th:only-of-type {\n",
       "        vertical-align: middle;\n",
       "    }\n",
       "\n",
       "    .dataframe tbody tr th {\n",
       "        vertical-align: top;\n",
       "    }\n",
       "\n",
       "    .dataframe thead th {\n",
       "        text-align: right;\n",
       "    }\n",
       "</style>\n",
       "<table border=\"1\" class=\"dataframe\">\n",
       "  <thead>\n",
       "    <tr style=\"text-align: right;\">\n",
       "      <th></th>\n",
       "      <th>Start_Time</th>\n",
       "      <th>City</th>\n",
       "      <th>State</th>\n",
       "      <th>Temperature(F)</th>\n",
       "      <th>Start_Lng</th>\n",
       "      <th>Start_Lat</th>\n",
       "    </tr>\n",
       "  </thead>\n",
       "  <tbody>\n",
       "    <tr>\n",
       "      <th>32547</th>\n",
       "      <td>2016-11-30 15:58:59</td>\n",
       "      <td>New York</td>\n",
       "      <td>NY</td>\n",
       "      <td>53.1</td>\n",
       "      <td>-73.943990</td>\n",
       "      <td>40.850020</td>\n",
       "    </tr>\n",
       "    <tr>\n",
       "      <th>32593</th>\n",
       "      <td>2016-11-30 17:31:55</td>\n",
       "      <td>New York</td>\n",
       "      <td>NY</td>\n",
       "      <td>53.1</td>\n",
       "      <td>-73.946580</td>\n",
       "      <td>40.771460</td>\n",
       "    </tr>\n",
       "    <tr>\n",
       "      <th>32683</th>\n",
       "      <td>2016-11-26 22:57:16</td>\n",
       "      <td>New York</td>\n",
       "      <td>NY</td>\n",
       "      <td>41.0</td>\n",
       "      <td>-73.973938</td>\n",
       "      <td>40.762979</td>\n",
       "    </tr>\n",
       "    <tr>\n",
       "      <th>32901</th>\n",
       "      <td>2016-12-01 12:14:13</td>\n",
       "      <td>New York</td>\n",
       "      <td>NY</td>\n",
       "      <td>53.1</td>\n",
       "      <td>-73.971240</td>\n",
       "      <td>40.744340</td>\n",
       "    </tr>\n",
       "    <tr>\n",
       "      <th>33089</th>\n",
       "      <td>2016-12-01 18:54:49</td>\n",
       "      <td>New York</td>\n",
       "      <td>NY</td>\n",
       "      <td>48.2</td>\n",
       "      <td>-74.002720</td>\n",
       "      <td>40.710680</td>\n",
       "    </tr>\n",
       "  </tbody>\n",
       "</table>\n",
       "</div>"
      ],
      "text/plain": [
       "                Start_Time      City State  Temperature(F)  Start_Lng  \\\n",
       "32547  2016-11-30 15:58:59  New York    NY            53.1 -73.943990   \n",
       "32593  2016-11-30 17:31:55  New York    NY            53.1 -73.946580   \n",
       "32683  2016-11-26 22:57:16  New York    NY            41.0 -73.973938   \n",
       "32901  2016-12-01 12:14:13  New York    NY            53.1 -73.971240   \n",
       "33089  2016-12-01 18:54:49  New York    NY            48.2 -74.002720   \n",
       "\n",
       "       Start_Lat  \n",
       "32547  40.850020  \n",
       "32593  40.771460  \n",
       "32683  40.762979  \n",
       "32901  40.744340  \n",
       "33089  40.710680  "
      ]
     },
     "execution_count": 14,
     "metadata": {},
     "output_type": "execute_result"
    }
   ],
   "source": [
    "only_ny = df.loc[df[\"City\"] == \"New York\"]\n",
    "only_ny.head()"
   ]
  },
  {
   "cell_type": "code",
   "execution_count": 15,
   "id": "modern-mozambique",
   "metadata": {
    "execution": {
     "iopub.execute_input": "2021-09-22T18:27:02.057917Z",
     "iopub.status.busy": "2021-09-22T18:27:02.056894Z",
     "iopub.status.idle": "2021-09-22T18:27:02.061157Z",
     "shell.execute_reply": "2021-09-22T18:27:02.061675Z",
     "shell.execute_reply.started": "2021-09-22T18:25:03.863954Z"
    },
    "papermill": {
     "duration": 0.057744,
     "end_time": "2021-09-22T18:27:02.061860",
     "exception": false,
     "start_time": "2021-09-22T18:27:02.004116",
     "status": "completed"
    },
    "tags": []
   },
   "outputs": [
    {
     "data": {
      "text/plain": [
       "4220"
      ]
     },
     "execution_count": 15,
     "metadata": {},
     "output_type": "execute_result"
    }
   ],
   "source": [
    "only_ny.count().max()"
   ]
  },
  {
   "cell_type": "markdown",
   "id": "innovative-response",
   "metadata": {
    "papermill": {
     "duration": 0.042502,
     "end_time": "2021-09-22T18:27:02.146951",
     "exception": false,
     "start_time": "2021-09-22T18:27:02.104449",
     "status": "completed"
    },
    "tags": []
   },
   "source": [
    "New York city is included in the dataset but has only 4000 recorded accidents."
   ]
  },
  {
   "cell_type": "code",
   "execution_count": 16,
   "id": "gross-characteristic",
   "metadata": {
    "execution": {
     "iopub.execute_input": "2021-09-22T18:27:02.247753Z",
     "iopub.status.busy": "2021-09-22T18:27:02.246788Z",
     "iopub.status.idle": "2021-09-22T18:27:02.252959Z",
     "shell.execute_reply": "2021-09-22T18:27:02.252104Z",
     "shell.execute_reply.started": "2021-09-22T18:25:03.880393Z"
    },
    "papermill": {
     "duration": 0.06272,
     "end_time": "2021-09-22T18:27:02.253116",
     "exception": false,
     "start_time": "2021-09-22T18:27:02.190396",
     "status": "completed"
    },
    "tags": []
   },
   "outputs": [
    {
     "data": {
      "text/plain": [
       "Los Angeles    39984\n",
       "Miami          36233\n",
       "Charlotte      22203\n",
       "Houston        20843\n",
       "Dallas         19497\n",
       "Name: City, dtype: int64"
      ]
     },
     "execution_count": 16,
     "metadata": {},
     "output_type": "execute_result"
    }
   ],
   "source": [
    "#cities with more than 1000 records\n",
    "high_accidents = count_city[count_city >= 1000]\n",
    "high_accidents.head()"
   ]
  },
  {
   "cell_type": "code",
   "execution_count": 17,
   "id": "extraordinary-spanish",
   "metadata": {
    "execution": {
     "iopub.execute_input": "2021-09-22T18:27:02.377780Z",
     "iopub.status.busy": "2021-09-22T18:27:02.374470Z",
     "iopub.status.idle": "2021-09-22T18:27:03.237513Z",
     "shell.execute_reply": "2021-09-22T18:27:03.236488Z",
     "shell.execute_reply.started": "2021-09-22T18:25:03.898539Z"
    },
    "papermill": {
     "duration": 0.934114,
     "end_time": "2021-09-22T18:27:03.237709",
     "exception": false,
     "start_time": "2021-09-22T18:27:02.303595",
     "status": "completed"
    },
    "tags": []
   },
   "outputs": [
    {
     "data": {
      "text/plain": [
       "<AxesSubplot:xlabel='City', ylabel='Count'>"
      ]
     },
     "execution_count": 17,
     "metadata": {},
     "output_type": "execute_result"
    },
    {
     "data": {
      "image/png": "[encoded data removed]",
      "text/plain": [
       "<Figure size 432x288 with 1 Axes>"
      ]
     },
     "metadata": {},
     "output_type": "display_data"
    }
   ],
   "source": [
    "sns.histplot(high_accidents,  log_scale=True)"
   ]
  },
  {
   "cell_type": "code",
   "execution_count": 18,
   "id": "czech-beijing",
   "metadata": {
    "execution": {
     "iopub.execute_input": "2021-09-22T18:27:03.426583Z",
     "iopub.status.busy": "2021-09-22T18:27:03.425863Z",
     "iopub.status.idle": "2021-09-22T18:27:03.482943Z",
     "shell.execute_reply": "2021-09-22T18:27:03.482103Z",
     "shell.execute_reply.started": "2021-09-22T18:25:04.639463Z"
    },
    "papermill": {
     "duration": 0.201019,
     "end_time": "2021-09-22T18:27:03.483105",
     "exception": false,
     "start_time": "2021-09-22T18:27:03.282086",
     "status": "completed"
    },
    "tags": []
   },
   "outputs": [],
   "source": [
    "new_df = df[df[\"City\"].isin(high_accidents.index)]"
   ]
  },
  {
   "cell_type": "code",
   "execution_count": 19,
   "id": "unknown-warning",
   "metadata": {
    "execution": {
     "iopub.execute_input": "2021-09-22T18:27:03.596440Z",
     "iopub.status.busy": "2021-09-22T18:27:03.595572Z",
     "iopub.status.idle": "2021-09-22T18:27:03.605128Z",
     "shell.execute_reply": "2021-09-22T18:27:03.605823Z",
     "shell.execute_reply.started": "2021-09-22T18:25:04.821878Z"
    },
    "papermill": {
     "duration": 0.078339,
     "end_time": "2021-09-22T18:27:03.606028",
     "exception": false,
     "start_time": "2021-09-22T18:27:03.527689",
     "status": "completed"
    },
    "tags": []
   },
   "outputs": [
    {
     "name": "stdout",
     "output_type": "stream",
     "text": [
      "new_df has 44.7796% less rows than the original dataframe\n"
     ]
    }
   ],
   "source": [
    "print(f\"new_df has {round(((df.shape[0]-new_df.shape[0])/df.shape[0])*100, 4)}% less rows than the original dataframe\")\n"
   ]
  },
  {
   "cell_type": "markdown",
   "id": "quality-bottom",
   "metadata": {
    "papermill": {
     "duration": 0.045163,
     "end_time": "2021-09-22T18:27:03.709984",
     "exception": false,
     "start_time": "2021-09-22T18:27:03.664821",
     "status": "completed"
    },
    "tags": []
   },
   "source": [
    "**A bit more than 40% of Cities of the original dataframe had less than 1000 records**"
   ]
  },
  {
   "cell_type": "markdown",
   "id": "invisible-letter",
   "metadata": {
    "papermill": {
     "duration": 0.044982,
     "end_time": "2021-09-22T18:27:03.799436",
     "exception": false,
     "start_time": "2021-09-22T18:27:03.754454",
     "status": "completed"
    },
    "tags": []
   },
   "source": [
    "\n",
    "Quantity of accidents by State\n"
   ]
  },
  {
   "cell_type": "code",
   "execution_count": 20,
   "id": "taken-finding",
   "metadata": {
    "execution": {
     "iopub.execute_input": "2021-09-22T18:27:03.893186Z",
     "iopub.status.busy": "2021-09-22T18:27:03.892071Z",
     "iopub.status.idle": "2021-09-22T18:27:04.029808Z",
     "shell.execute_reply": "2021-09-22T18:27:04.029181Z",
     "shell.execute_reply.started": "2021-09-22T18:25:04.832311Z"
    },
    "papermill": {
     "duration": 0.185411,
     "end_time": "2021-09-22T18:27:04.029964",
     "exception": false,
     "start_time": "2021-09-22T18:27:03.844553",
     "status": "completed"
    },
    "tags": []
   },
   "outputs": [
    {
     "data": {
      "text/plain": [
       "State\n",
       "CA    293395\n",
       "FL    107215\n",
       "TX     60975\n",
       "OR     39115\n",
       "NC     36395\n",
       "MN     25025\n",
       "NY     24978\n",
       "VA     23259\n",
       "AZ     23170\n",
       "LA     15977\n",
       "Name: City, dtype: int64"
      ]
     },
     "execution_count": 20,
     "metadata": {},
     "output_type": "execute_result"
    }
   ],
   "source": [
    "accidents_by_state = new_df.groupby(\"State\").City.count().sort_values(ascending=False)\n",
    "accidents_by_state[:10]"
   ]
  },
  {
   "cell_type": "code",
   "execution_count": 21,
   "id": "bulgarian-military",
   "metadata": {
    "execution": {
     "iopub.execute_input": "2021-09-22T18:27:04.130117Z",
     "iopub.status.busy": "2021-09-22T18:27:04.129417Z",
     "iopub.status.idle": "2021-09-22T18:27:04.385206Z",
     "shell.execute_reply": "2021-09-22T18:27:04.385787Z",
     "shell.execute_reply.started": "2021-09-22T18:25:04.998865Z"
    },
    "papermill": {
     "duration": 0.310965,
     "end_time": "2021-09-22T18:27:04.385989",
     "exception": false,
     "start_time": "2021-09-22T18:27:04.075024",
     "status": "completed"
    },
    "tags": []
   },
   "outputs": [
    {
     "data": {
      "text/plain": [
       "<AxesSubplot:xlabel='State', ylabel='City'>"
      ]
     },
     "execution_count": 21,
     "metadata": {},
     "output_type": "execute_result"
    },
    {
     "data": {
      "image/png": "[encoded data removed]",
      "text/plain": [
       "<Figure size 432x288 with 1 Axes>"
      ]
     },
     "metadata": {},
     "output_type": "display_data"
    }
   ],
   "source": [
    "sns.barplot(x=accidents_by_state[:10].index , y=accidents_by_state[:10])"
   ]
  },
  {
   "cell_type": "markdown",
   "id": "advance-provincial",
   "metadata": {
    "papermill": {
     "duration": 0.046835,
     "end_time": "2021-09-22T18:27:04.479146",
     "exception": false,
     "start_time": "2021-09-22T18:27:04.432311",
     "status": "completed"
    },
    "tags": []
   },
   "source": [
    "-California far surpasses other states in terms of traffic accidents \n",
    "\n",
    "-After Florida (2nd place), states don't reach the 100 000 mark."
   ]
  },
  {
   "cell_type": "markdown",
   "id": "ideal-general",
   "metadata": {
    "papermill": {
     "duration": 0.045719,
     "end_time": "2021-09-22T18:27:04.570920",
     "exception": false,
     "start_time": "2021-09-22T18:27:04.525201",
     "status": "completed"
    },
    "tags": []
   },
   "source": [
    "**Parsing dates**"
   ]
  },
  {
   "cell_type": "code",
   "execution_count": 22,
   "id": "juvenile-gather",
   "metadata": {
    "execution": {
     "iopub.execute_input": "2021-09-22T18:27:04.666504Z",
     "iopub.status.busy": "2021-09-22T18:27:04.665825Z",
     "iopub.status.idle": "2021-09-22T18:27:05.051372Z",
     "shell.execute_reply": "2021-09-22T18:27:05.052098Z",
     "shell.execute_reply.started": "2021-09-22T18:25:05.247224Z"
    },
    "papermill": {
     "duration": 0.435078,
     "end_time": "2021-09-22T18:27:05.052288",
     "exception": false,
     "start_time": "2021-09-22T18:27:04.617210",
     "status": "completed"
    },
    "tags": []
   },
   "outputs": [
    {
     "data": {
      "text/plain": [
       "1          2016\n",
       "2          2016\n",
       "3          2016\n",
       "4          2016\n",
       "5          2016\n",
       "           ... \n",
       "1516058    2019\n",
       "1516059    2019\n",
       "1516060    2019\n",
       "1516061    2019\n",
       "1516062    2019\n",
       "Name: Start_Time, Length: 837176, dtype: int64"
      ]
     },
     "execution_count": 22,
     "metadata": {},
     "output_type": "execute_result"
    }
   ],
   "source": [
    "import datetime as dt\n",
    "\n",
    "new_df[\"Start_Time\"] = pd.to_datetime(new_df[\"Start_Time\"])\n",
    "new_df[\"Start_Time\"].dt.year\n"
   ]
  },
  {
   "cell_type": "code",
   "execution_count": 23,
   "id": "naked-qualification",
   "metadata": {
    "execution": {
     "iopub.execute_input": "2021-09-22T18:27:05.149960Z",
     "iopub.status.busy": "2021-09-22T18:27:05.149257Z",
     "iopub.status.idle": "2021-09-22T18:27:05.694324Z",
     "shell.execute_reply": "2021-09-22T18:27:05.695029Z",
     "shell.execute_reply.started": "2021-09-22T18:25:05.648759Z"
    },
    "papermill": {
     "duration": 0.595791,
     "end_time": "2021-09-22T18:27:05.695243",
     "exception": false,
     "start_time": "2021-09-22T18:27:05.099452",
     "status": "completed"
    },
    "tags": []
   },
   "outputs": [
    {
     "data": {
      "text/plain": [
       "<AxesSubplot:xlabel='Start_Time', ylabel='count'>"
      ]
     },
     "execution_count": 23,
     "metadata": {},
     "output_type": "execute_result"
    },
    {
     "data": {
      "image/png": "[encoded data removed]",
      "text/plain": [
       "<Figure size 432x288 with 1 Axes>"
      ]
     },
     "metadata": {},
     "output_type": "display_data"
    }
   ],
   "source": [
    "sns.countplot(new_df[\"Start_Time\"].dt.year)"
   ]
  },
  {
   "cell_type": "markdown",
   "id": "broken-concern",
   "metadata": {
    "papermill": {
     "duration": 0.047956,
     "end_time": "2021-09-22T18:27:05.792004",
     "exception": false,
     "start_time": "2021-09-22T18:27:05.744048",
     "status": "completed"
    },
    "tags": []
   },
   "source": [
    "2020 was the year with most traffic accident records."
   ]
  },
  {
   "cell_type": "code",
   "execution_count": 24,
   "id": "antique-language",
   "metadata": {
    "execution": {
     "iopub.execute_input": "2021-09-22T18:27:05.889968Z",
     "iopub.status.busy": "2021-09-22T18:27:05.889264Z",
     "iopub.status.idle": "2021-09-22T18:27:06.453913Z",
     "shell.execute_reply": "2021-09-22T18:27:06.453315Z",
     "shell.execute_reply.started": "2021-09-22T18:25:06.150133Z"
    },
    "papermill": {
     "duration": 0.61488,
     "end_time": "2021-09-22T18:27:06.454083",
     "exception": false,
     "start_time": "2021-09-22T18:27:05.839203",
     "status": "completed"
    },
    "tags": []
   },
   "outputs": [
    {
     "data": {
      "image/png": "[encoded data removed]",
      "text/plain": [
       "<Figure size 432x288 with 1 Axes>"
      ]
     },
     "metadata": {},
     "output_type": "display_data"
    }
   ],
   "source": [
    "#wrapping the set_xticlabels stament inside a variable to hide the text objects\n",
    "p = sns.countplot(new_df[\"Start_Time\"].dt.hour)\n",
    "var = p.set_xticklabels([x for x in range(1, 25)])"
   ]
  },
  {
   "cell_type": "markdown",
   "id": "defined-orleans",
   "metadata": {
    "papermill": {
     "duration": 0.048327,
     "end_time": "2021-09-22T18:27:06.551743",
     "exception": false,
     "start_time": "2021-09-22T18:27:06.503416",
     "status": "completed"
    },
    "tags": []
   },
   "source": [
    "Much of the accidents are happening between 2pm and 7pm."
   ]
  },
  {
   "cell_type": "code",
   "execution_count": 25,
   "id": "sensitive-latin",
   "metadata": {
    "execution": {
     "iopub.execute_input": "2021-09-22T18:27:06.655041Z",
     "iopub.status.busy": "2021-09-22T18:27:06.654316Z",
     "iopub.status.idle": "2021-09-22T18:27:07.021818Z",
     "shell.execute_reply": "2021-09-22T18:27:07.021230Z",
     "shell.execute_reply.started": "2021-09-22T18:25:06.678777Z"
    },
    "papermill": {
     "duration": 0.42175,
     "end_time": "2021-09-22T18:27:07.022038",
     "exception": false,
     "start_time": "2021-09-22T18:27:06.600288",
     "status": "completed"
    },
    "tags": []
   },
   "outputs": [
    {
     "data": {
      "image/png": "[encoded data removed]",
      "text/plain": [
       "<Figure size 432x288 with 1 Axes>"
      ]
     },
     "metadata": {},
     "output_type": "display_data"
    }
   ],
   "source": [
    "g = sns.countplot(new_df[\"Start_Time\"].dt.dayofweek)\n",
    "var = g.set_xticklabels(rotation=30, labels=[\"Monday\", \"Tuesday\", \"Wednesday\", \"Thursday\", \"Friday\", \"Saturday\", \"Sunday\"])"
   ]
  },
  {
   "cell_type": "markdown",
   "id": "vocal-brave",
   "metadata": {
    "papermill": {
     "duration": 0.049927,
     "end_time": "2021-09-22T18:27:07.121859",
     "exception": false,
     "start_time": "2021-09-22T18:27:07.071932",
     "status": "completed"
    },
    "tags": []
   },
   "source": [
    "Weekdays are the most dangerous, maybe people are in a hurry to go to their jobs from monday to friday."
   ]
  },
  {
   "cell_type": "code",
   "execution_count": 26,
   "id": "narrow-preview",
   "metadata": {
    "execution": {
     "iopub.execute_input": "2021-09-22T18:27:07.227486Z",
     "iopub.status.busy": "2021-09-22T18:27:07.226511Z",
     "iopub.status.idle": "2021-09-22T18:27:07.323559Z",
     "shell.execute_reply": "2021-09-22T18:27:07.324143Z",
     "shell.execute_reply.started": "2021-09-22T18:25:07.033083Z"
    },
    "papermill": {
     "duration": 0.15236,
     "end_time": "2021-09-22T18:27:07.324333",
     "exception": false,
     "start_time": "2021-09-22T18:27:07.171973",
     "status": "completed"
    },
    "tags": []
   },
   "outputs": [
    {
     "data": {
      "text/plain": [
       "1      48334\n",
       "2      43867\n",
       "3      53415\n",
       "4      59613\n",
       "5      60241\n",
       "6      63396\n",
       "7      28502\n",
       "8      33916\n",
       "9      69546\n",
       "10    100318\n",
       "11    122107\n",
       "12    153921\n",
       "Name: Start_Time, dtype: int64"
      ]
     },
     "execution_count": 26,
     "metadata": {},
     "output_type": "execute_result"
    }
   ],
   "source": [
    "month_vc = new_df[\"Start_Time\"].dt.month.value_counts().sort_index()\n",
    "month_vc"
   ]
  },
  {
   "cell_type": "code",
   "execution_count": 27,
   "id": "graduate-battlefield",
   "metadata": {
    "execution": {
     "iopub.execute_input": "2021-09-22T18:27:07.427216Z",
     "iopub.status.busy": "2021-09-22T18:27:07.426579Z",
     "iopub.status.idle": "2021-09-22T18:27:07.850181Z",
     "shell.execute_reply": "2021-09-22T18:27:07.850797Z",
     "shell.execute_reply.started": "2021-09-22T18:25:07.136210Z"
    },
    "papermill": {
     "duration": 0.476513,
     "end_time": "2021-09-22T18:27:07.851005",
     "exception": false,
     "start_time": "2021-09-22T18:27:07.374492",
     "status": "completed"
    },
    "tags": []
   },
   "outputs": [
    {
     "data": {
      "image/png": "[encoded data removed]",
      "text/plain": [
       "<Figure size 432x288 with 1 Axes>"
      ]
     },
     "metadata": {},
     "output_type": "display_data"
    }
   ],
   "source": [
    "g = sns.countplot(new_df[\"Start_Time\"].dt.month)\n",
    "var = g.set_xticklabels(rotation=50, labels=[\"January\", \"February\", \"March\", \"April\", \"May\", \"June\", \"July\", \"August\", \"September\", \"October\", \"November\", \"December\"])"
   ]
  },
  {
   "cell_type": "markdown",
   "id": "aquatic-program",
   "metadata": {
    "papermill": {
     "duration": 0.051267,
     "end_time": "2021-09-22T18:27:07.953761",
     "exception": false,
     "start_time": "2021-09-22T18:27:07.902494",
     "status": "completed"
    },
    "tags": []
   },
   "source": [
    "September to December are the months with the most accidents. Maybe it's correlated to the tempature and frozen roads."
   ]
  },
  {
   "cell_type": "code",
   "execution_count": 28,
   "id": "backed-conversation",
   "metadata": {
    "execution": {
     "iopub.execute_input": "2021-09-22T18:27:08.065353Z",
     "iopub.status.busy": "2021-09-22T18:27:08.064641Z",
     "iopub.status.idle": "2021-09-22T18:27:08.169348Z",
     "shell.execute_reply": "2021-09-22T18:27:08.169958Z",
     "shell.execute_reply.started": "2021-09-22T18:25:07.548592Z"
    },
    "papermill": {
     "duration": 0.163943,
     "end_time": "2021-09-22T18:27:08.170159",
     "exception": false,
     "start_time": "2021-09-22T18:27:08.006216",
     "status": "completed"
    },
    "tags": []
   },
   "outputs": [
    {
     "name": "stdout",
     "output_type": "stream",
     "text": [
      "Temperature in Celsius:\n"
     ]
    },
    {
     "data": {
      "text/plain": [
       "[8.7660888532012,\n",
       " 10.758935143217817,\n",
       " 13.624706408560511,\n",
       " 16.71307216198959,\n",
       " 20.961207372358032,\n",
       " 25.09853298499125,\n",
       " 27.051531894919467,\n",
       " 26.182647165041445,\n",
       " 23.692988452986963,\n",
       " 19.517055375299645,\n",
       " 15.193682078165446,\n",
       " 10.084974859115837]"
      ]
     },
     "execution_count": 28,
     "metadata": {},
     "output_type": "execute_result"
    }
   ],
   "source": [
    "temp_f = new_df.groupby(new_df[\"Start_Time\"].dt.month)[\"Temperature(F)\"].mean()\n",
    "temp_c = pd.Series([((x-32)*5/9) for x in temp_f], index=temp_f.index)\n",
    "print(\"Temperature in Celsius:\")\n",
    "list(temp_c)"
   ]
  },
  {
   "cell_type": "code",
   "execution_count": 29,
   "id": "verbal-inspector",
   "metadata": {
    "execution": {
     "iopub.execute_input": "2021-09-22T18:27:08.281347Z",
     "iopub.status.busy": "2021-09-22T18:27:08.280163Z",
     "iopub.status.idle": "2021-09-22T18:27:08.287915Z",
     "shell.execute_reply": "2021-09-22T18:27:08.287233Z",
     "shell.execute_reply.started": "2021-09-22T18:25:07.656246Z"
    },
    "papermill": {
     "duration": 0.065364,
     "end_time": "2021-09-22T18:27:08.288081",
     "exception": false,
     "start_time": "2021-09-22T18:27:08.222717",
     "status": "completed"
    },
    "tags": []
   },
   "outputs": [
    {
     "data": {
      "text/plain": [
       "-0.3855415978286499"
      ]
     },
     "execution_count": 29,
     "metadata": {},
     "output_type": "execute_result"
    }
   ],
   "source": [
    "cor = month_vc.corr(temp_c)\n",
    "cor"
   ]
  },
  {
   "cell_type": "markdown",
   "id": "exotic-silver",
   "metadata": {
    "papermill": {
     "duration": 0.052472,
     "end_time": "2021-09-22T18:27:08.392949",
     "exception": false,
     "start_time": "2021-09-22T18:27:08.340477",
     "status": "completed"
    },
    "tags": []
   },
   "source": [
    "Negative correlation between the amount of accidents each month and the temperature. No luck."
   ]
  },
  {
   "cell_type": "markdown",
   "id": "hungry-brunei",
   "metadata": {
    "papermill": {
     "duration": 0.052949,
     "end_time": "2021-09-22T18:27:08.497953",
     "exception": false,
     "start_time": "2021-09-22T18:27:08.445004",
     "status": "completed"
    },
    "tags": []
   },
   "source": [
    "***Of the dataset i can conclude the following statements:***\n",
    "\n",
    "* The state of California has the highest traffic accidients(293 395) with almost 3 times the  records compared to Florida,the second place(107 215). \n",
    "\n",
    "* Not surprisingly Los angeles, miami and many other cities inside the states named beforehand have the most accident records.\n",
    "\n",
    "* Any weekday of December between 7am to 10am and 2pm to 7pm are the most dangerous times to drive, especially in the state of California.\n",
    "\n",
    "* Lastly, the dataset is missing data from many cities and/or has gathered most of the data from a few States."
   ]
  }
 ],
 "metadata": {
  "kernelspec": {
   "display_name": "Python 3",
   "language": "python",
   "name": "python3"
  },
  "language_info": {
   "codemirror_mode": {
    "name": "ipython",
    "version": 3
   },
   "file_extension": ".py",
   "mimetype": "text/x-python",
   "name": "python",
   "nbconvert_exporter": "python",
   "pygments_lexer": "ipython3",
   "version": "3.7.10"
  },
  "papermill": {
   "default_parameters": {},
   "duration": 48.805296,
   "end_time": "2021-09-22T18:27:09.366944",
   "environment_variables": {},
   "exception": null,
   "input_path": "__notebook__.ipynb",
   "output_path": "__notebook__.ipynb",
   "parameters": {},
   "start_time": "2021-09-22T18:26:20.561648",
   "version": "2.3.3"
  }
 },
 "nbformat": 4,
 "nbformat_minor": 5
}
